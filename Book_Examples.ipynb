{
  "nbformat": 4,
  "nbformat_minor": 0,
  "metadata": {
    "colab": {
      "name": "Book - Examples.ipynb",
      "provenance": [],
      "collapsed_sections": [],
      "toc_visible": true
    },
    "kernelspec": {
      "name": "python3",
      "display_name": "Python 3"
    }
  },
  "cells": [
    {
      "cell_type": "markdown",
      "metadata": {
        "id": "PozQ3m4dF7sJ",
        "colab_type": "text"
      },
      "source": [
        "# 70 years of machine learning in geoscience \n",
        "Accompanies https://arxiv.org/abs/2006.13311\n",
        "## Example code\n",
        "\n",
        "These are code snippets that were included to show the developments of machine learning tools in the 2010s. The strides Python and the machine learning community has made with a consolidated ML API in scikit-learn."
      ]
    },
    {
      "cell_type": "markdown",
      "metadata": {
        "id": "FC5sbVQuGZCG",
        "colab_type": "text"
      },
      "source": [
        "### Data Preparation\n",
        "In the following, we use the utility functions of scikit-learn to prepare a classification data set and split the data into train and test sets."
      ]
    },
    {
      "cell_type": "code",
      "metadata": {
        "id": "IB72xAyoTJ8H",
        "colab_type": "code",
        "colab": {}
      },
      "source": [
        "from sklearn.datasets import make_classification\n",
        "X, y = make_classification(n_samples=5000, n_features=5,\n",
        "                           n_informative=3, n_redundant=0,\n",
        "                           random_state=0, shuffle=False)"
      ],
      "execution_count": 21,
      "outputs": []
    },
    {
      "cell_type": "code",
      "metadata": {
        "id": "wKtfVLUvfdds",
        "colab_type": "code",
        "colab": {}
      },
      "source": [
        "from sklearn.model_selection import train_test_split\n",
        "X_train, X_test, y_train, y_test = train_test_split(X, y, test_size=.25, random_state=0)"
      ],
      "execution_count": 22,
      "outputs": []
    },
    {
      "cell_type": "markdown",
      "metadata": {
        "id": "_vZLzdy5Gm09",
        "colab_type": "text"
      },
      "source": [
        "### Support-Vector Machines\n",
        "Train a SVM, predict, score, and evaluate feature importance."
      ]
    },
    {
      "cell_type": "code",
      "metadata": {
        "id": "SEMtDZiWTQjl",
        "colab_type": "code",
        "colab": {
          "base_uri": "https://localhost:8080/",
          "height": 85
        },
        "outputId": "55a60eca-00f6-4cc0-bca2-9390814da0ad"
      },
      "source": [
        "from sklearn.svm import SVC\n",
        "svm = SVC(random_state=0, probability=True)\n",
        "svm.fit(X_train, y_train)"
      ],
      "execution_count": 23,
      "outputs": [
        {
          "output_type": "execute_result",
          "data": {
            "text/plain": [
              "SVC(C=1.0, break_ties=False, cache_size=200, class_weight=None, coef0=0.0,\n",
              "    decision_function_shape='ovr', degree=3, gamma='scale', kernel='rbf',\n",
              "    max_iter=-1, probability=True, random_state=0, shrinking=True, tol=0.001,\n",
              "    verbose=False)"
            ]
          },
          "metadata": {
            "tags": []
          },
          "execution_count": 23
        }
      ]
    },
    {
      "cell_type": "code",
      "metadata": {
        "id": "nw72xUIeTRh8",
        "colab_type": "code",
        "colab": {
          "base_uri": "https://localhost:8080/",
          "height": 34
        },
        "outputId": "753c2329-6232-450a-de5a-e7f2791fa733"
      },
      "source": [
        "print(svm.predict([[0, 0, 0, 0, 0], [-1, -1, -1, -1, -1], [1, 1, 1, 1, 1]]))"
      ],
      "execution_count": 24,
      "outputs": [
        {
          "output_type": "stream",
          "text": [
            "[1 0 1]\n"
          ],
          "name": "stdout"
        }
      ]
    },
    {
      "cell_type": "code",
      "metadata": {
        "id": "vhSJMwidft4l",
        "colab_type": "code",
        "colab": {
          "base_uri": "https://localhost:8080/",
          "height": 51
        },
        "outputId": "6611bced-a14c-4606-a63f-d1b2e143c138"
      },
      "source": [
        "print(svm.score(X_train, y_train))\n",
        "print(svm.score(X_test, y_test))"
      ],
      "execution_count": 25,
      "outputs": [
        {
          "output_type": "stream",
          "text": [
            "0.9098666666666667\n",
            "0.9032\n"
          ],
          "name": "stdout"
        }
      ]
    },
    {
      "cell_type": "code",
      "metadata": {
        "id": "mgieb5wTndQ2",
        "colab_type": "code",
        "colab": {
          "base_uri": "https://localhost:8080/",
          "height": 51
        },
        "outputId": "cd37e84f-d3eb-433a-ef86-17fb46e7c83a"
      },
      "source": [
        "from sklearn.inspection import permutation_importance\n",
        "importances = permutation_importance(svm, X_train, y_train, n_repeats=10, random_state=0)\n",
        "print(importances.importances_mean)\n",
        "print(importances.importances_mean.argsort())"
      ],
      "execution_count": 26,
      "outputs": [
        {
          "output_type": "stream",
          "text": [
            "[0.2032     0.29666667 0.13208    0.00176    0.00208   ]\n",
            "[3 4 2 0 1]\n"
          ],
          "name": "stdout"
        }
      ]
    },
    {
      "cell_type": "markdown",
      "metadata": {
        "id": "bbKobNM_GrIQ",
        "colab_type": "text"
      },
      "source": [
        "### Random Forest Classifier\n",
        "Train a Random Forest, predict, score, and evaluate feature importance."
      ]
    },
    {
      "cell_type": "code",
      "metadata": {
        "id": "Dv2b9CBwTSSc",
        "colab_type": "code",
        "colab": {
          "base_uri": "https://localhost:8080/",
          "height": 153
        },
        "outputId": "129557d8-e819-43a6-fdf9-e63783c58bba"
      },
      "source": [
        "from sklearn.ensemble import RandomForestClassifier\n",
        "rf = RandomForestClassifier(max_depth=7, random_state=0)\n",
        "rf.fit(X_train, y_train)"
      ],
      "execution_count": 27,
      "outputs": [
        {
          "output_type": "execute_result",
          "data": {
            "text/plain": [
              "RandomForestClassifier(bootstrap=True, ccp_alpha=0.0, class_weight=None,\n",
              "                       criterion='gini', max_depth=7, max_features='auto',\n",
              "                       max_leaf_nodes=None, max_samples=None,\n",
              "                       min_impurity_decrease=0.0, min_impurity_split=None,\n",
              "                       min_samples_leaf=1, min_samples_split=2,\n",
              "                       min_weight_fraction_leaf=0.0, n_estimators=100,\n",
              "                       n_jobs=None, oob_score=False, random_state=0, verbose=0,\n",
              "                       warm_start=False)"
            ]
          },
          "metadata": {
            "tags": []
          },
          "execution_count": 27
        }
      ]
    },
    {
      "cell_type": "code",
      "metadata": {
        "id": "tKVStJvHT3S-",
        "colab_type": "code",
        "colab": {
          "base_uri": "https://localhost:8080/",
          "height": 34
        },
        "outputId": "51df7a5b-7293-4cb1-d3b0-f19ba1c304ff"
      },
      "source": [
        "print(rf.predict([[0, 0, 0, 0, 0], [-1, -1, -1, -1, -1], [1, 1, 1, 1, 1]]))"
      ],
      "execution_count": 28,
      "outputs": [
        {
          "output_type": "stream",
          "text": [
            "[1 0 1]\n"
          ],
          "name": "stdout"
        }
      ]
    },
    {
      "cell_type": "code",
      "metadata": {
        "id": "_L2yTBTGT35X",
        "colab_type": "code",
        "colab": {
          "base_uri": "https://localhost:8080/",
          "height": 51
        },
        "outputId": "d7187bf6-749c-44f3-96fd-8e65a507e224"
      },
      "source": [
        "print(rf.feature_importances_)\n",
        "print(rf.feature_importances_.argsort())"
      ],
      "execution_count": 29,
      "outputs": [
        {
          "output_type": "stream",
          "text": [
            "[0.23245109 0.48771187 0.25273571 0.01410461 0.01299672]\n",
            "[4 3 0 2 1]\n"
          ],
          "name": "stdout"
        }
      ]
    },
    {
      "cell_type": "code",
      "metadata": {
        "id": "HjftHPpbUBb9",
        "colab_type": "code",
        "colab": {
          "base_uri": "https://localhost:8080/",
          "height": 51
        },
        "outputId": "cade9365-8f4e-4323-e31f-6ecb54c44d3a"
      },
      "source": [
        "print(rf.score(X_train, y_train))\n",
        "print(rf.score(X_test, y_test))"
      ],
      "execution_count": 30,
      "outputs": [
        {
          "output_type": "stream",
          "text": [
            "0.9306666666666666\n",
            "0.912\n"
          ],
          "name": "stdout"
        }
      ]
    },
    {
      "cell_type": "markdown",
      "metadata": {
        "id": "8wiwYsAxGztp",
        "colab_type": "text"
      },
      "source": [
        "### Gaussian Processes\n",
        "Train two Gaussian Processes with different kernels, predict, score, and evaluate feature importance."
      ]
    },
    {
      "cell_type": "code",
      "metadata": {
        "id": "zOxSvkZTTBJb",
        "colab_type": "code",
        "colab": {
          "base_uri": "https://localhost:8080/",
          "height": 102
        },
        "outputId": "17db7edc-de21-4477-f8e4-50cb9d6fbbce"
      },
      "source": [
        "from sklearn.gaussian_process import GaussianProcessClassifier\n",
        "from sklearn.gaussian_process.kernels import DotProduct as DP\n",
        "gp = GaussianProcessClassifier(random_state=0, copy_X_train=False)\n",
        "gp0 = GaussianProcessClassifier(kernel=DP(.25), random_state=0, copy_X_train=False)\n",
        "gp.fit(X_train[:1000], y_train[:1000])\n",
        "gp0.fit(X_train[:1000], y_train[:1000])"
      ],
      "execution_count": 31,
      "outputs": [
        {
          "output_type": "execute_result",
          "data": {
            "text/plain": [
              "GaussianProcessClassifier(copy_X_train=False, kernel=DotProduct(sigma_0=0.25),\n",
              "                          max_iter_predict=100, multi_class='one_vs_rest',\n",
              "                          n_jobs=None, n_restarts_optimizer=0,\n",
              "                          optimizer='fmin_l_bfgs_b', random_state=0,\n",
              "                          warm_start=False)"
            ]
          },
          "metadata": {
            "tags": []
          },
          "execution_count": 31
        }
      ]
    },
    {
      "cell_type": "code",
      "metadata": {
        "id": "ERvA8dBjTQiL",
        "colab_type": "code",
        "colab": {
          "base_uri": "https://localhost:8080/",
          "height": 51
        },
        "outputId": "25506d83-255f-44c4-a45f-3798da1f8b17"
      },
      "source": [
        "print(gp.predict([[0, 0, 0, 0, 0], [-1, -1, -1, -1, -1], [1, 1, 1, 1, 1]]))\n",
        "print(gp0.predict([[0, 0, 0, 0, 0], [-1, -1, -1, -1, -1], [1, 1, 1, 1, 1]]))"
      ],
      "execution_count": 32,
      "outputs": [
        {
          "output_type": "stream",
          "text": [
            "[1 0 1]\n",
            "[0 0 1]\n"
          ],
          "name": "stdout"
        }
      ]
    },
    {
      "cell_type": "code",
      "metadata": {
        "id": "vmbTXqQQTRDs",
        "colab_type": "code",
        "colab": {
          "base_uri": "https://localhost:8080/",
          "height": 85
        },
        "outputId": "982e58f2-7c54-4c3d-d50b-0601bf5098e5"
      },
      "source": [
        "print(gp.score(X_train, y_train))\n",
        "print(gp.score(X_test, y_test))\n",
        "print(gp0.score(X_train, y_train))\n",
        "print(gp0.score(X_test, y_test))"
      ],
      "execution_count": 33,
      "outputs": [
        {
          "output_type": "stream",
          "text": [
            "0.9114666666666666\n",
            "0.9024\n",
            "0.7232\n",
            "0.7088\n"
          ],
          "name": "stdout"
        }
      ]
    },
    {
      "cell_type": "code",
      "metadata": {
        "id": "irNL5GdRJHEw",
        "colab_type": "code",
        "colab": {
          "base_uri": "https://localhost:8080/",
          "height": 68
        },
        "outputId": "5c49abce-2864-4ad8-910e-dcb473cac798"
      },
      "source": [
        "importances = permutation_importance(gp0, X_train, y_train, n_repeats=10, random_state=0)\n",
        "print(importances.importances_mean)\n",
        "print(importances.importances_mean.argsort())"
      ],
      "execution_count": 34,
      "outputs": [
        {
          "output_type": "stream",
          "text": [
            "[ 5.84533333e-02  2.22293333e-01  4.86933333e-02 -3.46666667e-04\n",
            " -5.33333333e-05]\n",
            "[3 4 2 0 1]\n"
          ],
          "name": "stdout"
        }
      ]
    },
    {
      "cell_type": "code",
      "metadata": {
        "id": "ZydeW4CDTk8m",
        "colab_type": "code",
        "colab": {
          "base_uri": "https://localhost:8080/",
          "height": 68
        },
        "outputId": "44af42f3-ca2b-4b3e-c550-b43c8b38c35b"
      },
      "source": [
        "importances = permutation_importance(gp, X_train, y_train, n_repeats=10, random_state=0)\n",
        "print(importances.importances_mean)\n",
        "print(importances.importances_mean.argsort())"
      ],
      "execution_count": 35,
      "outputs": [
        {
          "output_type": "stream",
          "text": [
            "[2.05706667e-01 2.98373333e-01 1.48106667e-01 1.86666667e-04\n",
            " 3.46666667e-04]\n",
            "[3 4 2 0 1]\n"
          ],
          "name": "stdout"
        }
      ]
    },
    {
      "cell_type": "markdown",
      "metadata": {
        "id": "CWg_LZMjG2jc",
        "colab_type": "text"
      },
      "source": [
        "### Deep Learning\n",
        "Train a deep neural network, predict, and score accuracy. Then train the same model 10 times with different initializations to evaluate the convergence of the model."
      ]
    },
    {
      "cell_type": "code",
      "metadata": {
        "id": "AnG5dtFWzuNl",
        "colab_type": "code",
        "colab": {}
      },
      "source": [
        "import tensorflow as tf\n",
        "tf.random.set_seed(900)"
      ],
      "execution_count": 36,
      "outputs": []
    },
    {
      "cell_type": "code",
      "metadata": {
        "id": "PdL-NT1SE2Wz",
        "colab_type": "code",
        "colab": {}
      },
      "source": [
        "model = tf.keras.models.Sequential([\n",
        "tf.keras.layers.Dense(32, activation='relu'),\n",
        "tf.keras.layers.Dropout(.3),\n",
        "tf.keras.layers.Dense(16, activation='relu'),\n",
        "tf.keras.layers.Dense(2, activation='softmax')\n",
        "])"
      ],
      "execution_count": 37,
      "outputs": []
    },
    {
      "cell_type": "code",
      "metadata": {
        "id": "E_yHn1tpF-wB",
        "colab_type": "code",
        "colab": {}
      },
      "source": [
        "model.compile(optimizer='adam',\n",
        "              loss='sparse_categorical_crossentropy',\n",
        "              metrics=['accuracy'])"
      ],
      "execution_count": 38,
      "outputs": []
    },
    {
      "cell_type": "code",
      "metadata": {
        "id": "dxUpJTwJGOzA",
        "colab_type": "code",
        "colab": {
          "base_uri": "https://localhost:8080/",
          "height": 1000
        },
        "outputId": "f5293b3a-3ded-44c9-cff5-e9e5a446091e"
      },
      "source": [
        "model.fit(X_train, \n",
        "          y_train, \n",
        "          validation_split=.1,\n",
        "          epochs=100)"
      ],
      "execution_count": 39,
      "outputs": [
        {
          "output_type": "stream",
          "text": [
            "Epoch 1/100\n",
            "WARNING:tensorflow:Layer dense is casting an input tensor from dtype float64 to the layer's dtype of float32, which is new behavior in TensorFlow 2.  The layer has dtype float32 because it's dtype defaults to floatx.\n",
            "\n",
            "If you intended to run this layer in float32, you can safely ignore this warning. If in doubt, this warning is likely only an issue if you are porting a TensorFlow 1.X model to TensorFlow 2.\n",
            "\n",
            "To change all layers to have dtype float64 by default, call `tf.keras.backend.set_floatx('float64')`. To change just this layer, pass dtype='float64' to the layer constructor. If you are the author of this layer, you can disable autocasting by passing autocast=False to the base Layer constructor.\n",
            "\n",
            "106/106 [==============================] - 0s 3ms/step - loss: 0.5450 - accuracy: 0.7413 - val_loss: 0.4134 - val_accuracy: 0.8613\n",
            "Epoch 2/100\n",
            "106/106 [==============================] - 0s 2ms/step - loss: 0.3867 - accuracy: 0.8388 - val_loss: 0.3143 - val_accuracy: 0.9013\n",
            "Epoch 3/100\n",
            "106/106 [==============================] - 0s 2ms/step - loss: 0.3368 - accuracy: 0.8581 - val_loss: 0.2832 - val_accuracy: 0.8987\n",
            "Epoch 4/100\n",
            "106/106 [==============================] - 0s 2ms/step - loss: 0.3198 - accuracy: 0.8732 - val_loss: 0.2674 - val_accuracy: 0.9040\n",
            "Epoch 5/100\n",
            "106/106 [==============================] - 0s 2ms/step - loss: 0.2976 - accuracy: 0.8847 - val_loss: 0.2617 - val_accuracy: 0.9067\n",
            "Epoch 6/100\n",
            "106/106 [==============================] - 0s 2ms/step - loss: 0.2843 - accuracy: 0.8939 - val_loss: 0.2511 - val_accuracy: 0.9067\n",
            "Epoch 7/100\n",
            "106/106 [==============================] - 0s 2ms/step - loss: 0.2715 - accuracy: 0.8957 - val_loss: 0.2430 - val_accuracy: 0.9067\n",
            "Epoch 8/100\n",
            "106/106 [==============================] - 0s 2ms/step - loss: 0.2479 - accuracy: 0.9025 - val_loss: 0.2317 - val_accuracy: 0.9120\n",
            "Epoch 9/100\n",
            "106/106 [==============================] - 0s 2ms/step - loss: 0.2479 - accuracy: 0.9025 - val_loss: 0.2243 - val_accuracy: 0.9093\n",
            "Epoch 10/100\n",
            "106/106 [==============================] - 0s 2ms/step - loss: 0.2377 - accuracy: 0.9111 - val_loss: 0.2164 - val_accuracy: 0.9147\n",
            "Epoch 11/100\n",
            "106/106 [==============================] - 0s 2ms/step - loss: 0.2308 - accuracy: 0.9126 - val_loss: 0.2155 - val_accuracy: 0.9147\n",
            "Epoch 12/100\n",
            "106/106 [==============================] - 0s 2ms/step - loss: 0.2296 - accuracy: 0.9058 - val_loss: 0.2102 - val_accuracy: 0.9173\n",
            "Epoch 13/100\n",
            "106/106 [==============================] - 0s 2ms/step - loss: 0.2231 - accuracy: 0.9117 - val_loss: 0.2061 - val_accuracy: 0.9120\n",
            "Epoch 14/100\n",
            "106/106 [==============================] - 0s 2ms/step - loss: 0.2148 - accuracy: 0.9132 - val_loss: 0.2027 - val_accuracy: 0.9173\n",
            "Epoch 15/100\n",
            "106/106 [==============================] - 0s 2ms/step - loss: 0.2061 - accuracy: 0.9164 - val_loss: 0.2036 - val_accuracy: 0.9173\n",
            "Epoch 16/100\n",
            "106/106 [==============================] - 0s 2ms/step - loss: 0.2058 - accuracy: 0.9194 - val_loss: 0.1985 - val_accuracy: 0.9227\n",
            "Epoch 17/100\n",
            "106/106 [==============================] - 0s 2ms/step - loss: 0.2049 - accuracy: 0.9150 - val_loss: 0.1980 - val_accuracy: 0.9253\n",
            "Epoch 18/100\n",
            "106/106 [==============================] - 0s 2ms/step - loss: 0.2023 - accuracy: 0.9203 - val_loss: 0.1961 - val_accuracy: 0.9280\n",
            "Epoch 19/100\n",
            "106/106 [==============================] - 0s 2ms/step - loss: 0.1984 - accuracy: 0.9179 - val_loss: 0.1928 - val_accuracy: 0.9227\n",
            "Epoch 20/100\n",
            "106/106 [==============================] - 0s 2ms/step - loss: 0.2010 - accuracy: 0.9188 - val_loss: 0.1929 - val_accuracy: 0.9200\n",
            "Epoch 21/100\n",
            "106/106 [==============================] - 0s 2ms/step - loss: 0.1921 - accuracy: 0.9247 - val_loss: 0.1895 - val_accuracy: 0.9253\n",
            "Epoch 22/100\n",
            "106/106 [==============================] - 0s 2ms/step - loss: 0.1864 - accuracy: 0.9244 - val_loss: 0.1917 - val_accuracy: 0.9280\n",
            "Epoch 23/100\n",
            "106/106 [==============================] - 0s 2ms/step - loss: 0.1967 - accuracy: 0.9224 - val_loss: 0.1870 - val_accuracy: 0.9253\n",
            "Epoch 24/100\n",
            "106/106 [==============================] - 0s 2ms/step - loss: 0.1893 - accuracy: 0.9256 - val_loss: 0.1877 - val_accuracy: 0.9253\n",
            "Epoch 25/100\n",
            "106/106 [==============================] - 0s 2ms/step - loss: 0.1863 - accuracy: 0.9265 - val_loss: 0.1929 - val_accuracy: 0.9227\n",
            "Epoch 26/100\n",
            "106/106 [==============================] - 0s 2ms/step - loss: 0.1789 - accuracy: 0.9268 - val_loss: 0.1920 - val_accuracy: 0.9253\n",
            "Epoch 27/100\n",
            "106/106 [==============================] - 0s 2ms/step - loss: 0.1890 - accuracy: 0.9203 - val_loss: 0.1857 - val_accuracy: 0.9253\n",
            "Epoch 28/100\n",
            "106/106 [==============================] - 0s 2ms/step - loss: 0.1760 - accuracy: 0.9289 - val_loss: 0.1844 - val_accuracy: 0.9253\n",
            "Epoch 29/100\n",
            "106/106 [==============================] - 0s 2ms/step - loss: 0.1843 - accuracy: 0.9253 - val_loss: 0.1865 - val_accuracy: 0.9253\n",
            "Epoch 30/100\n",
            "106/106 [==============================] - 0s 2ms/step - loss: 0.1791 - accuracy: 0.9253 - val_loss: 0.1842 - val_accuracy: 0.9200\n",
            "Epoch 31/100\n",
            "106/106 [==============================] - 0s 2ms/step - loss: 0.1798 - accuracy: 0.9277 - val_loss: 0.1885 - val_accuracy: 0.9253\n",
            "Epoch 32/100\n",
            "106/106 [==============================] - 0s 2ms/step - loss: 0.1782 - accuracy: 0.9277 - val_loss: 0.1840 - val_accuracy: 0.9227\n",
            "Epoch 33/100\n",
            "106/106 [==============================] - 0s 2ms/step - loss: 0.1822 - accuracy: 0.9292 - val_loss: 0.1853 - val_accuracy: 0.9253\n",
            "Epoch 34/100\n",
            "106/106 [==============================] - 0s 2ms/step - loss: 0.1771 - accuracy: 0.9298 - val_loss: 0.1860 - val_accuracy: 0.9253\n",
            "Epoch 35/100\n",
            "106/106 [==============================] - 0s 2ms/step - loss: 0.1787 - accuracy: 0.9319 - val_loss: 0.1842 - val_accuracy: 0.9253\n",
            "Epoch 36/100\n",
            "106/106 [==============================] - 0s 2ms/step - loss: 0.1750 - accuracy: 0.9304 - val_loss: 0.1830 - val_accuracy: 0.9200\n",
            "Epoch 37/100\n",
            "106/106 [==============================] - 0s 2ms/step - loss: 0.1766 - accuracy: 0.9286 - val_loss: 0.1820 - val_accuracy: 0.9200\n",
            "Epoch 38/100\n",
            "106/106 [==============================] - 0s 2ms/step - loss: 0.1738 - accuracy: 0.9289 - val_loss: 0.1800 - val_accuracy: 0.9253\n",
            "Epoch 39/100\n",
            "106/106 [==============================] - 0s 2ms/step - loss: 0.1732 - accuracy: 0.9292 - val_loss: 0.1845 - val_accuracy: 0.9280\n",
            "Epoch 40/100\n",
            "106/106 [==============================] - 0s 2ms/step - loss: 0.1797 - accuracy: 0.9253 - val_loss: 0.1878 - val_accuracy: 0.9253\n",
            "Epoch 41/100\n",
            "106/106 [==============================] - 0s 2ms/step - loss: 0.1685 - accuracy: 0.9307 - val_loss: 0.1863 - val_accuracy: 0.9227\n",
            "Epoch 42/100\n",
            "106/106 [==============================] - 0s 2ms/step - loss: 0.1708 - accuracy: 0.9298 - val_loss: 0.1853 - val_accuracy: 0.9227\n",
            "Epoch 43/100\n",
            "106/106 [==============================] - 0s 2ms/step - loss: 0.1719 - accuracy: 0.9307 - val_loss: 0.1821 - val_accuracy: 0.9253\n",
            "Epoch 44/100\n",
            "106/106 [==============================] - 0s 2ms/step - loss: 0.1696 - accuracy: 0.9345 - val_loss: 0.1823 - val_accuracy: 0.9253\n",
            "Epoch 45/100\n",
            "106/106 [==============================] - 0s 2ms/step - loss: 0.1678 - accuracy: 0.9354 - val_loss: 0.1856 - val_accuracy: 0.9253\n",
            "Epoch 46/100\n",
            "106/106 [==============================] - 0s 2ms/step - loss: 0.1715 - accuracy: 0.9319 - val_loss: 0.1889 - val_accuracy: 0.9200\n",
            "Epoch 47/100\n",
            "106/106 [==============================] - 0s 2ms/step - loss: 0.1718 - accuracy: 0.9319 - val_loss: 0.1878 - val_accuracy: 0.9307\n",
            "Epoch 48/100\n",
            "106/106 [==============================] - 0s 2ms/step - loss: 0.1647 - accuracy: 0.9319 - val_loss: 0.1865 - val_accuracy: 0.9307\n",
            "Epoch 49/100\n",
            "106/106 [==============================] - 0s 2ms/step - loss: 0.1674 - accuracy: 0.9345 - val_loss: 0.1833 - val_accuracy: 0.9280\n",
            "Epoch 50/100\n",
            "106/106 [==============================] - 0s 2ms/step - loss: 0.1661 - accuracy: 0.9345 - val_loss: 0.1798 - val_accuracy: 0.9307\n",
            "Epoch 51/100\n",
            "106/106 [==============================] - 0s 2ms/step - loss: 0.1674 - accuracy: 0.9330 - val_loss: 0.1820 - val_accuracy: 0.9280\n",
            "Epoch 52/100\n",
            "106/106 [==============================] - 0s 2ms/step - loss: 0.1674 - accuracy: 0.9321 - val_loss: 0.1810 - val_accuracy: 0.9280\n",
            "Epoch 53/100\n",
            "106/106 [==============================] - 0s 2ms/step - loss: 0.1627 - accuracy: 0.9339 - val_loss: 0.1804 - val_accuracy: 0.9227\n",
            "Epoch 54/100\n",
            "106/106 [==============================] - 0s 2ms/step - loss: 0.1669 - accuracy: 0.9327 - val_loss: 0.1804 - val_accuracy: 0.9253\n",
            "Epoch 55/100\n",
            "106/106 [==============================] - 0s 2ms/step - loss: 0.1641 - accuracy: 0.9336 - val_loss: 0.1858 - val_accuracy: 0.9280\n",
            "Epoch 56/100\n",
            "106/106 [==============================] - 0s 2ms/step - loss: 0.1631 - accuracy: 0.9336 - val_loss: 0.1823 - val_accuracy: 0.9227\n",
            "Epoch 57/100\n",
            "106/106 [==============================] - 0s 2ms/step - loss: 0.1658 - accuracy: 0.9301 - val_loss: 0.1822 - val_accuracy: 0.9280\n",
            "Epoch 58/100\n",
            "106/106 [==============================] - 0s 2ms/step - loss: 0.1666 - accuracy: 0.9333 - val_loss: 0.1799 - val_accuracy: 0.9227\n",
            "Epoch 59/100\n",
            "106/106 [==============================] - 0s 2ms/step - loss: 0.1651 - accuracy: 0.9327 - val_loss: 0.1809 - val_accuracy: 0.9280\n",
            "Epoch 60/100\n",
            "106/106 [==============================] - 0s 2ms/step - loss: 0.1635 - accuracy: 0.9366 - val_loss: 0.1817 - val_accuracy: 0.9253\n",
            "Epoch 61/100\n",
            "106/106 [==============================] - 0s 2ms/step - loss: 0.1638 - accuracy: 0.9351 - val_loss: 0.1836 - val_accuracy: 0.9227\n",
            "Epoch 62/100\n",
            "106/106 [==============================] - 0s 2ms/step - loss: 0.1614 - accuracy: 0.9348 - val_loss: 0.1800 - val_accuracy: 0.9307\n",
            "Epoch 63/100\n",
            "106/106 [==============================] - 0s 2ms/step - loss: 0.1612 - accuracy: 0.9357 - val_loss: 0.1782 - val_accuracy: 0.9200\n",
            "Epoch 64/100\n",
            "106/106 [==============================] - 0s 2ms/step - loss: 0.1615 - accuracy: 0.9319 - val_loss: 0.1792 - val_accuracy: 0.9280\n",
            "Epoch 65/100\n",
            "106/106 [==============================] - 0s 2ms/step - loss: 0.1605 - accuracy: 0.9363 - val_loss: 0.1778 - val_accuracy: 0.9307\n",
            "Epoch 66/100\n",
            "106/106 [==============================] - 0s 2ms/step - loss: 0.1638 - accuracy: 0.9289 - val_loss: 0.1810 - val_accuracy: 0.9307\n",
            "Epoch 67/100\n",
            "106/106 [==============================] - 0s 2ms/step - loss: 0.1661 - accuracy: 0.9348 - val_loss: 0.1807 - val_accuracy: 0.9360\n",
            "Epoch 68/100\n",
            "106/106 [==============================] - 0s 2ms/step - loss: 0.1634 - accuracy: 0.9360 - val_loss: 0.1787 - val_accuracy: 0.9307\n",
            "Epoch 69/100\n",
            "106/106 [==============================] - 0s 2ms/step - loss: 0.1598 - accuracy: 0.9342 - val_loss: 0.1804 - val_accuracy: 0.9307\n",
            "Epoch 70/100\n",
            "106/106 [==============================] - 0s 2ms/step - loss: 0.1605 - accuracy: 0.9330 - val_loss: 0.1870 - val_accuracy: 0.9280\n",
            "Epoch 71/100\n",
            "106/106 [==============================] - 0s 2ms/step - loss: 0.1584 - accuracy: 0.9378 - val_loss: 0.1825 - val_accuracy: 0.9360\n",
            "Epoch 72/100\n",
            "106/106 [==============================] - 0s 2ms/step - loss: 0.1589 - accuracy: 0.9339 - val_loss: 0.1795 - val_accuracy: 0.9333\n",
            "Epoch 73/100\n",
            "106/106 [==============================] - 0s 2ms/step - loss: 0.1609 - accuracy: 0.9327 - val_loss: 0.1767 - val_accuracy: 0.9360\n",
            "Epoch 74/100\n",
            "106/106 [==============================] - 0s 2ms/step - loss: 0.1626 - accuracy: 0.9354 - val_loss: 0.1803 - val_accuracy: 0.9360\n",
            "Epoch 75/100\n",
            "106/106 [==============================] - 0s 2ms/step - loss: 0.1592 - accuracy: 0.9393 - val_loss: 0.1812 - val_accuracy: 0.9307\n",
            "Epoch 76/100\n",
            "106/106 [==============================] - 0s 2ms/step - loss: 0.1662 - accuracy: 0.9336 - val_loss: 0.1776 - val_accuracy: 0.9280\n",
            "Epoch 77/100\n",
            "106/106 [==============================] - 0s 2ms/step - loss: 0.1593 - accuracy: 0.9342 - val_loss: 0.1839 - val_accuracy: 0.9307\n",
            "Epoch 78/100\n",
            "106/106 [==============================] - 0s 2ms/step - loss: 0.1580 - accuracy: 0.9381 - val_loss: 0.1791 - val_accuracy: 0.9280\n",
            "Epoch 79/100\n",
            "106/106 [==============================] - 0s 2ms/step - loss: 0.1628 - accuracy: 0.9372 - val_loss: 0.1836 - val_accuracy: 0.9307\n",
            "Epoch 80/100\n",
            "106/106 [==============================] - 0s 2ms/step - loss: 0.1590 - accuracy: 0.9342 - val_loss: 0.1824 - val_accuracy: 0.9280\n",
            "Epoch 81/100\n",
            "106/106 [==============================] - 0s 2ms/step - loss: 0.1605 - accuracy: 0.9396 - val_loss: 0.1769 - val_accuracy: 0.9280\n",
            "Epoch 82/100\n",
            "106/106 [==============================] - 0s 2ms/step - loss: 0.1570 - accuracy: 0.9375 - val_loss: 0.1761 - val_accuracy: 0.9307\n",
            "Epoch 83/100\n",
            "106/106 [==============================] - 0s 2ms/step - loss: 0.1601 - accuracy: 0.9378 - val_loss: 0.1747 - val_accuracy: 0.9360\n",
            "Epoch 84/100\n",
            "106/106 [==============================] - 0s 2ms/step - loss: 0.1521 - accuracy: 0.9390 - val_loss: 0.1808 - val_accuracy: 0.9360\n",
            "Epoch 85/100\n",
            "106/106 [==============================] - 0s 2ms/step - loss: 0.1584 - accuracy: 0.9363 - val_loss: 0.1771 - val_accuracy: 0.9360\n",
            "Epoch 86/100\n",
            "106/106 [==============================] - 0s 2ms/step - loss: 0.1567 - accuracy: 0.9396 - val_loss: 0.1813 - val_accuracy: 0.9280\n",
            "Epoch 87/100\n",
            "106/106 [==============================] - 0s 2ms/step - loss: 0.1625 - accuracy: 0.9351 - val_loss: 0.1797 - val_accuracy: 0.9333\n",
            "Epoch 88/100\n",
            "106/106 [==============================] - 0s 2ms/step - loss: 0.1570 - accuracy: 0.9387 - val_loss: 0.1787 - val_accuracy: 0.9333\n",
            "Epoch 89/100\n",
            "106/106 [==============================] - 0s 2ms/step - loss: 0.1550 - accuracy: 0.9404 - val_loss: 0.1774 - val_accuracy: 0.9360\n",
            "Epoch 90/100\n",
            "106/106 [==============================] - 0s 2ms/step - loss: 0.1559 - accuracy: 0.9396 - val_loss: 0.1757 - val_accuracy: 0.9387\n",
            "Epoch 91/100\n",
            "106/106 [==============================] - 0s 2ms/step - loss: 0.1545 - accuracy: 0.9354 - val_loss: 0.1794 - val_accuracy: 0.9440\n",
            "Epoch 92/100\n",
            "106/106 [==============================] - 0s 2ms/step - loss: 0.1562 - accuracy: 0.9369 - val_loss: 0.1769 - val_accuracy: 0.9307\n",
            "Epoch 93/100\n",
            "106/106 [==============================] - 0s 2ms/step - loss: 0.1573 - accuracy: 0.9381 - val_loss: 0.1779 - val_accuracy: 0.9360\n",
            "Epoch 94/100\n",
            "106/106 [==============================] - 0s 2ms/step - loss: 0.1526 - accuracy: 0.9407 - val_loss: 0.1776 - val_accuracy: 0.9360\n",
            "Epoch 95/100\n",
            "106/106 [==============================] - 0s 2ms/step - loss: 0.1609 - accuracy: 0.9342 - val_loss: 0.1784 - val_accuracy: 0.9413\n",
            "Epoch 96/100\n",
            "106/106 [==============================] - 0s 2ms/step - loss: 0.1555 - accuracy: 0.9393 - val_loss: 0.1764 - val_accuracy: 0.9307\n",
            "Epoch 97/100\n",
            "106/106 [==============================] - 0s 2ms/step - loss: 0.1561 - accuracy: 0.9357 - val_loss: 0.1784 - val_accuracy: 0.9280\n",
            "Epoch 98/100\n",
            "106/106 [==============================] - 0s 2ms/step - loss: 0.1560 - accuracy: 0.9354 - val_loss: 0.1749 - val_accuracy: 0.9333\n",
            "Epoch 99/100\n",
            "106/106 [==============================] - 0s 2ms/step - loss: 0.1582 - accuracy: 0.9360 - val_loss: 0.1760 - val_accuracy: 0.9280\n",
            "Epoch 100/100\n",
            "106/106 [==============================] - 0s 2ms/step - loss: 0.1560 - accuracy: 0.9384 - val_loss: 0.1775 - val_accuracy: 0.9360\n"
          ],
          "name": "stdout"
        },
        {
          "output_type": "execute_result",
          "data": {
            "text/plain": [
              "<tensorflow.python.keras.callbacks.History at 0x7fa0c5093208>"
            ]
          },
          "metadata": {
            "tags": []
          },
          "execution_count": 39
        }
      ]
    },
    {
      "cell_type": "code",
      "metadata": {
        "id": "kDkVJDrFGTWP",
        "colab_type": "code",
        "colab": {
          "base_uri": "https://localhost:8080/",
          "height": 51
        },
        "outputId": "d265fb7d-5399-4965-9a17-dddbaf0d3f05"
      },
      "source": [
        "model.evaluate(X_test, y_test)"
      ],
      "execution_count": 40,
      "outputs": [
        {
          "output_type": "stream",
          "text": [
            "40/40 [==============================] - 0s 1ms/step - loss: 0.2025 - accuracy: 0.9232\n"
          ],
          "name": "stdout"
        },
        {
          "output_type": "execute_result",
          "data": {
            "text/plain": [
              "[0.20247310400009155, 0.9232000112533569]"
            ]
          },
          "metadata": {
            "tags": []
          },
          "execution_count": 40
        }
      ]
    },
    {
      "cell_type": "markdown",
      "metadata": {
        "id": "dr5fUPvCHNTd",
        "colab_type": "text"
      },
      "source": [
        "Here we train ten models on ten initializations to evaluate the convergence of the model."
      ]
    },
    {
      "cell_type": "code",
      "metadata": {
        "id": "MtG7T3J0R2Ub",
        "colab_type": "code",
        "colab": {}
      },
      "source": [
        "import numpy as np\n",
        "\n",
        "seeds = 10\n",
        "\n",
        "train_loss = np.zeros((seeds,100))\n",
        "val_loss = np.zeros((seeds,100))\n",
        "train_acc = np.zeros((seeds,100))\n",
        "val_acc = np.zeros((seeds,100))\n",
        "\n",
        "for i in range(seeds):\n",
        "    tf.keras.backend.clear_session()\n",
        "    del model\n",
        "    tf.random.set_seed(i*100)\n",
        "    model = tf.keras.models.Sequential([\n",
        "    tf.keras.layers.Dense(32, activation='relu'),\n",
        "    tf.keras.layers.Dropout(.3),\n",
        "    tf.keras.layers.Dense(16, activation='relu'),\n",
        "    tf.keras.layers.Dense(2, activation='softmax')\n",
        "    ])\n",
        "    model.compile(optimizer='adam',\n",
        "              loss='sparse_categorical_crossentropy',\n",
        "              metrics=['accuracy'])\n",
        "    history = model.fit(X_train, \n",
        "              y_train, \n",
        "              validation_split=.1,\n",
        "              epochs=100,\n",
        "              verbose=0)\n",
        "    \n",
        "    \n",
        "    train_loss[i,:] = history.history['loss']\n",
        "    val_loss[i,:] = history.history['val_loss']\n",
        "    train_acc[i,:] = history.history['accuracy']\n",
        "    val_acc[i,:] = history.history['val_accuracy']\n",
        "\n",
        "    "
      ],
      "execution_count": null,
      "outputs": []
    },
    {
      "cell_type": "code",
      "metadata": {
        "id": "rpnqLn1jTxeu",
        "colab_type": "code",
        "colab": {}
      },
      "source": [
        "train_loss_u = np.mean(train_loss, axis=0)\n",
        "train_loss_s = np.std(train_loss, axis=0)\n",
        "val_loss_u = np.mean(val_loss, axis=0)\n",
        "val_loss_s = np.std(val_loss, axis=0)\n",
        "train_acc_u = np.mean(train_acc, axis=0)\n",
        "train_acc_s = np.std(train_acc, axis=0)\n",
        "val_acc_u = np.mean(val_acc, axis=0)\n",
        "val_acc_s = np.std(val_acc, axis=0)"
      ],
      "execution_count": 42,
      "outputs": []
    },
    {
      "cell_type": "markdown",
      "metadata": {
        "id": "ykYzho4OHFwd",
        "colab_type": "text"
      },
      "source": [
        "## Visualize Results"
      ]
    },
    {
      "cell_type": "markdown",
      "metadata": {
        "id": "OzgjovbYHxl_",
        "colab_type": "text"
      },
      "source": [
        "### Neural Network Convergence"
      ]
    },
    {
      "cell_type": "code",
      "metadata": {
        "id": "SRKXXbncHKeV",
        "colab_type": "code",
        "colab": {}
      },
      "source": [
        "from cycler import cycler\n",
        "import matplotlib.pyplot as plt\n",
        "import matplotlib.patches as mpatches\n",
        "from matplotlib.colors import ListedColormap\n",
        "\n",
        "\n",
        "plt.rc('font', family='serif')\n",
        "plt.rc('xtick', labelsize='x-small')\n",
        "plt.rc('ytick', labelsize='x-small')\n",
        "plt.rc('axes', prop_cycle=(cycler(color=['#67001f', '#053061'])))"
      ],
      "execution_count": 43,
      "outputs": []
    },
    {
      "cell_type": "code",
      "metadata": {
        "id": "BBpd6lX7VHy0",
        "colab_type": "code",
        "colab": {
          "base_uri": "https://localhost:8080/",
          "height": 238
        },
        "outputId": "721bf28d-d72f-4cba-81b5-b1e83d44049f"
      },
      "source": [
        "# summarize history for accuracy\n",
        "fig, axs = plt.subplots(figsize=(8,3), ncols=2)\n",
        "x = list(range(100))\n",
        "\n",
        "axs[1].fill_between(x, train_acc_u-train_acc_s*2, train_acc_u+train_acc_s*2,\n",
        "    alpha=.2, facecolor='C0',)\n",
        "axs[1].fill_between(x, val_acc_u-val_acc_s*2, val_acc_u+val_acc_s*2,\n",
        "    alpha=.2, facecolor='C1',)\n",
        "axs[1].plot(x,train_acc_u, color='C0', linewidth=1)\n",
        "axs[1].plot(x,val_acc_u, color='C1', linewidth=1)\n",
        "axs[1].set_title('Neural Network Accuracy')\n",
        "axs[1].set_ylabel('Metric: Accuracy')\n",
        "axs[1].set_xlabel('Training Epoch')\n",
        "\n",
        "# summarize history for loss\n",
        "axs[0].fill_between(x, train_loss_u-train_loss_s*2, train_loss_u+train_loss_s*2,\n",
        "    alpha=.2, facecolor='C0')\n",
        "axs[0].fill_between(x, val_loss_u-val_loss_s*2, val_loss_u+val_loss_s*2,\n",
        "    alpha=.2, facecolor='C1',)\n",
        "axs[0].plot(x,train_loss_u, color='C0', linewidth=1)\n",
        "axs[0].plot(x,val_loss_u, color='C1', linewidth=1)\n",
        "axs[0].set_title('Neural Network Loss')\n",
        "axs[0].set_ylabel('Loss: Cross-Entropy')\n",
        "axs[0].set_xlabel('Training Epoch')\n",
        "axs[1].legend(['Training Data', 'Validation Data', '2σ contains 95%', '2σ contains 95%'], loc='best')\n",
        "fig.subplots_adjust(left=0.01)\n",
        "fig.savefig('nn-loss.png', dpi=300, bbox_inches='tight')\n",
        "plt.show()"
      ],
      "execution_count": 44,
      "outputs": [
        {
          "output_type": "display_data",
          "data": {
            "image/png": "[encoded data removed]",
            "text/plain": [
              "<Figure size 576x216 with 2 Axes>"
            ]
          },
          "metadata": {
            "tags": [],
            "needs_background": "light"
          }
        }
      ]
    },
    {
      "cell_type": "markdown",
      "metadata": {
        "id": "0HaCi7uBH390",
        "colab_type": "text"
      },
      "source": [
        "### Classifier Decision Surfaces"
      ]
    },
    {
      "cell_type": "code",
      "metadata": {
        "id": "kTiPzN3hU-hr",
        "colab_type": "code",
        "colab": {}
      },
      "source": [
        "classifiers = {\"SVM\": svm, \"Gaussian Process\": gp, \"Random Forest\": rf, \"DNN\": model}"
      ],
      "execution_count": 45,
      "outputs": []
    },
    {
      "cell_type": "code",
      "metadata": {
        "id": "dT3JHouzu8Fq",
        "colab_type": "code",
        "colab": {}
      },
      "source": [
        "# Create a mesh to calculate all predictions on\n",
        "\n",
        "h = .02  # step size in the mesh\n",
        "\n",
        "x_min, x_mean, x_max = X[:, 0].min() - .5, np.mean(X[:, 0]), X[:, 0].max() + .5\n",
        "y_min, y_mean, y_max = X[:, 1].min() - .5, np.mean(X[:, 1]), X[:, 1].max() + .5\n",
        "z_min, z_mean, z_max = X[:, 2].min() - .5, np.mean(X[:, 2]), X[:, 2].max() + .5\n",
        "xx, yy = np.meshgrid(np.arange(x_min, x_max, h),\n",
        "                     np.arange(y_min, y_max, h))"
      ],
      "execution_count": 46,
      "outputs": []
    },
    {
      "cell_type": "markdown",
      "metadata": {
        "id": "NJLchRSJJg_V",
        "colab_type": "text"
      },
      "source": [
        "The following function plots the decision surfaces with their respective inputs."
      ]
    },
    {
      "cell_type": "code",
      "metadata": {
        "id": "p8Di5X5IFYBI",
        "colab_type": "code",
        "colab": {}
      },
      "source": [
        "def sklearn_slice(classifiers, offset, h=0.02, out_file=None):\n",
        "    \"\"\" Plot input data and 2D decision surfaces of 3D data\n",
        "\n",
        "    classifiers (dict): Different classifiers to portray. Key will be used as \n",
        "                        title and value should be the fitted model.\n",
        "    offset (float):     Position of 2D slice withing the 3D volume\n",
        "    h (float):          Size of 2D slice\n",
        "    out_file (str):     Filename of image to save to.\n",
        "    \"\"\"\n",
        "    i = 1\n",
        "\n",
        "    #z_slice = (z_min, z_max) #all\n",
        "    z_slice = (offset-h, offset+h) #specific slice\n",
        "\n",
        "    z_bool = (X[:,2] > z_slice[0]) * (X[:,2] < z_slice[1])\n",
        "    z_train_bool = (X_train[:,2] > z_slice[0]) * (X_train[:,2] < z_slice[1])\n",
        "    z_test_bool = (X_test[:,2] > z_slice[0]) * (X_test[:,2] < z_slice[1])\n",
        "\n",
        "    cm = plt.cm.RdBu\n",
        "    cm_bright = ListedColormap(['#FF0000', '#0000FF'])\n",
        "\n",
        "    figure = plt.figure(figsize=(4 * (len(classifiers) + 1), 4))\n",
        "    ax = plt.subplot(1, len(classifiers) + 1, i)\n",
        "    ax.set_title(\"Input data\")\n",
        "\n",
        "    # Plot all data points\n",
        "    all_plot = ax.scatter(X[np.logical_not(z_bool), 0], X[np.logical_not(z_bool), 1], \n",
        "                          facecolor='#C0C0C0', label=\"All Data\")\n",
        "    # Plot the training points\n",
        "    train_plot = ax.scatter(X_train[z_train_bool, 0], X_train[z_train_bool, 1], c=y_train[z_train_bool], \n",
        "                            cmap=cm_bright, edgecolors='k', label=\"Training Data\")\n",
        "    # Plot the testing points\n",
        "    test_plot = ax.scatter(X_test[z_test_bool, 0], X_test[z_test_bool, 1], c=y_test[z_test_bool], \n",
        "                           cmap=cm_bright, marker='x', label=\"Test Data\")\n",
        "    ax.set_xlim(xx.min(), xx.max())\n",
        "    ax.set_ylim(yy.min(), yy.max())\n",
        "    ax.set_xticks(())\n",
        "    ax.set_yticks(())\n",
        "    grey_patch = mpatches.Patch(color='#C0C0C0', label='All Data (3D)')\n",
        "    red_patch = mpatches.Patch(color='#FF0000', label='Class 0')\n",
        "    blue_patch = mpatches.Patch(color='#0000FF', label='Class 1')\n",
        "    ax.legend(handles=[grey_patch, red_patch, blue_patch, train_plot, test_plot], loc='best')\n",
        "    i += 1\n",
        "    # iterate over classifiers\n",
        "    for name, clf in classifiers.items():\n",
        "        ax = plt.subplot(1, len(classifiers) + 1, i)\n",
        "        try:\n",
        "            score = clf.score(X_test, y_test)\n",
        "        except:\n",
        "            score = clf.evaluate(X_test, y_test, verbose=0)[1]\n",
        "        # Plot the decision boundary. For that, we will assign a color to each\n",
        "        # point in the mesh [x_min, x_max]x[y_min, y_max].\n",
        "        # if hasattr(clf, \"decision_function\"):\n",
        "        #     Z = clf.decision_function(np.c_[xx.ravel(), yy.ravel(), np.zeros_like(yy.ravel())+offset, np.zeros_like(yy.ravel()), np.zeros_like(yy.ravel())])\n",
        "        # elif hasattr(clf, \"predict_classes\"):\n",
        "        zrs = np.zeros_like(yy.ravel())\n",
        "        if hasattr(clf, \"predict_classes\"):\n",
        "            Z = clf.predict(np.c_[xx.ravel(), yy.ravel(), zrs+offset, zrs, zrs], verbose=0)[:, 1]\n",
        "        else:\n",
        "            Z = clf.predict_proba(np.c_[xx.ravel(), yy.ravel(), zrs+offset, zrs, zrs])[:, 1]\n",
        "        \n",
        "        # Put the result into a color plot\n",
        "        Z = Z.reshape(xx.shape)\n",
        "        ax.contourf(xx, yy, Z, cmap=cm, alpha=.8)\n",
        "        \n",
        "        # Plot the training points\n",
        "        ax.scatter(X_train[z_train_bool, 0], X_train[z_train_bool, 1], c=y_train[z_train_bool], \n",
        "                   cmap=cm_bright, edgecolors='k')\n",
        "        # Plot the testing points\n",
        "        ax.scatter(X_test[z_test_bool, 0], X_test[z_test_bool, 1], c=y_test[z_test_bool], \n",
        "                   cmap=cm_bright, marker='x')\n",
        "        \n",
        "        ax.set_xlim(xx.min(), xx.max())\n",
        "        ax.set_ylim(yy.min(), yy.max())\n",
        "        ax.set_xticks(())\n",
        "        ax.set_yticks(())\n",
        "        ax.set_title(name)\n",
        "        ax.text(xx.max() - .3, yy.min() + .3, ('%.2f' % score).lstrip('0'),\n",
        "                size=15, horizontalalignment='right')\n",
        "        i += 1\n",
        "    \n",
        "    plt.tight_layout()\n",
        "    if out_file is None:\n",
        "        plt.show()\n",
        "    else:\n",
        "        plt.savefig(out_file, bbox_inches='tight')\n",
        "    plt.close()\n"
      ],
      "execution_count": 47,
      "outputs": []
    },
    {
      "cell_type": "code",
      "metadata": {
        "id": "qpKkqnNvZBxY",
        "colab_type": "code",
        "colab": {}
      },
      "source": [
        "sklearn_slice(classifiers, z_mean, out_file=\"decision-boundaries.png\")"
      ],
      "execution_count": 48,
      "outputs": []
    },
    {
      "cell_type": "code",
      "metadata": {
        "id": "SJte8YM6n3Yt",
        "colab_type": "code",
        "colab": {}
      },
      "source": [
        "sklearn_slice({\"Linear Kernel\": gp0, \"RBF Kernel\": gp}, z_mean, out_file=\"gaussian-processes.png\")"
      ],
      "execution_count": 49,
      "outputs": []
    },
    {
      "cell_type": "code",
      "metadata": {
        "id": "DlvAxlYW3fq-",
        "colab_type": "code",
        "colab": {}
      },
      "source": [
        "# iterate over classifiers\n",
        "for name, clf in classifiers.items():\n",
        "    sklearn_slice({name: clf}, z_mean, out_file=name+\".png\")"
      ],
      "execution_count": 50,
      "outputs": []
    },
    {
      "cell_type": "markdown",
      "metadata": {
        "id": "S2ff04bfIQ4Z",
        "colab_type": "text"
      },
      "source": [
        "### Video of 3D decision volume\n",
        "Iterate over entire volume, create an image for each, then collect all images and create a movie from it."
      ]
    },
    {
      "cell_type": "code",
      "metadata": {
        "id": "xEi1jj71xhAS",
        "colab_type": "code",
        "colab": {}
      },
      "source": [
        "import imageio\n",
        "from tqdm.notebook import tqdm\n",
        "\n",
        "drivepath = \"losses/\"\n",
        "\n",
        "for x, off in enumerate(tqdm(np.arange(z_min+h, z_max-h, h))):\n",
        "    sklearn_slice(classifiers, off, out_file=f\"{drivepath}loss3D-{x:02d}.png\")"
      ],
      "execution_count": null,
      "outputs": []
    },
    {
      "cell_type": "code",
      "metadata": {
        "id": "clCrEqzGylfn",
        "colab_type": "code",
        "colab": {}
      },
      "source": [
        "images = []\n",
        "for i in range(439):\n",
        "    images.append(imageio.imread(f\"{drivepath}loss3D-{i:02d}.png\"))\n"
      ],
      "execution_count": null,
      "outputs": []
    },
    {
      "cell_type": "code",
      "metadata": {
        "id": "Ue0_x0EA7asj",
        "colab_type": "code",
        "colab": {}
      },
      "source": [
        "imageio.mimsave('decision_boundary2.mp4', images[::3])"
      ],
      "execution_count": null,
      "outputs": []
    },
    {
      "cell_type": "code",
      "metadata": {
        "id": "R12wgVjGQ08J",
        "colab_type": "code",
        "colab": {}
      },
      "source": [
        "imageio.mimsave('decision_boundary2.gif', images)"
      ],
      "execution_count": null,
      "outputs": []
    }
  ]
}